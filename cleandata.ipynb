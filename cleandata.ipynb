{
 "cells": [
  {
   "cell_type": "code",
   "execution_count": 6,
   "metadata": {},
   "outputs": [],
   "source": [
    "from bs4 import BeautifulSoup\n",
    "import re\n",
    "from sklearn import model_selection, preprocessing, linear_model, naive_bayes, metrics, svm\n",
    "from sklearn.feature_extraction.text import TfidfVectorizer, CountVectorizer\n",
    "from sklearn import decomposition, ensemble\n",
    "import nltk\n",
    "from nltk.corpus import stopwords\n",
    "from nltk.tokenize import word_tokenize \n",
    "from tokenize import tokenize, untokenize\n",
    "\n",
    "\n",
    "import pandas, numpy, string\n",
    "\n",
    "\n",
    "\n",
    "def dataparser(filename):\n",
    "    with open(filename,'r') as fo:\n",
    "        sgml=fo.read()\n",
    "    soup = BeautifulSoup(sgml,'html.parser')\n",
    "    text_list=soup.find_all('text')\n",
    "    label_list=soup.find_all('topics')\n",
    "    \n",
    "   \n",
    "    tablabel=[]\n",
    "    for x in label_list:\n",
    "        \n",
    "        tablabel.append(x)\n",
    "            \n",
    "    \n",
    "    tabtext =[]\n",
    "    tablabel2 =[]\n",
    "    \n",
    "    z =0\n",
    "    for item2 in label_list:\n",
    "        soup = BeautifulSoup(str(item2))\n",
    "        sublabel = soup.find_all('d')\n",
    "        if (len(sublabel) !=0):\n",
    "            \n",
    "            cleantext = BeautifulSoup(str(sublabel[0]), \"lxml\").text\n",
    "            tablabel2.append(cleantext)\n",
    "            \n",
    "            cleantext2 = BeautifulSoup(str(text_list[z]), \"lxml\").text\n",
    "           \n",
    "                \n",
    "            tabtext.append(cleantext2)\n",
    "        z+=1\n",
    "\n",
    "\n",
    "    p=0\n",
    "    for k in tabtext:\n",
    "        word_token = word_tokenize(k)\n",
    "        k = [word for word in word_token if not word  in stopwords.words('english')]\n",
    "        for l in k:\n",
    "            \n",
    "            tabtext[p] += \" \" + l\n",
    "        p+=1\n",
    "    \n",
    "  \n",
    " \n",
    "  \n",
    "  \n",
    "    \n",
    "   \n",
    "\n",
    "\n",
    "    return tabtext, tablabel2\n",
    "\n",
    "Matrix0T, Matrix0L = dataparser(r'C:\\Users\\Victor\\Downloads\\reuters21578\\reut2-000.sgm')\n",
    "Matrix1T, Matrix1L = dataparser(r'C:\\Users\\Victor\\Downloads\\reuters21578\\reut2-001.sgm')\n",
    "Matrix2T, Matrix2L = dataparser(r'C:\\Users\\Victor\\Downloads\\reuters21578\\reut2-002.sgm')\n",
    "Matrix3T, Matrix3L = dataparser(r'C:\\Users\\Victor\\Downloads\\reuters21578\\reut2-003.sgm')\n",
    "Matrix4T, Matrix4L = dataparser(r'C:\\Users\\Victor\\Downloads\\reuters21578\\reut2-004.sgm')\n",
    "Matrix5T, Matrix5L = dataparser(r'C:\\Users\\Victor\\Downloads\\reuters21578\\reut2-005.sgm')\n",
    "Matrix6T, Matrix6L = dataparser(r'C:\\Users\\Victor\\Downloads\\reuters21578\\reut2-006.sgm')\n",
    "Matrix7T, Matrix7L = dataparser(r'C:\\Users\\Victor\\Downloads\\reuters21578\\reut2-007.sgm')\n",
    "Matrix8T, Matrix8L = dataparser(r'C:\\Users\\Victor\\Downloads\\reuters21578\\reut2-008.sgm')\n",
    "Matrix9T, Matrix9L = dataparser(r'C:\\Users\\Victor\\Downloads\\reuters21578\\reut2-009.sgm')\n",
    "Matrix10T, Matrix10L = dataparser(r'C:\\Users\\Victor\\Downloads\\reuters21578\\reut2-010.sgm')\n",
    "Matrix11T, Matrix11L = dataparser(r'C:\\Users\\Victor\\Downloads\\reuters21578\\reut2-011.sgm')\n",
    "Matrix12T, Matrix12L = dataparser(r'C:\\Users\\Victor\\Downloads\\reuters21578\\reut2-012.sgm')\n",
    "Matrix13T, Matrix13L = dataparser(r'C:\\Users\\Victor\\Downloads\\reuters21578\\reut2-013.sgm')\n",
    "Matrix14T, Matrix14L = dataparser(r'C:\\Users\\Victor\\Downloads\\reuters21578\\reut2-014.sgm')\n",
    "Matrix17T, Matrix17L = dataparser(r'C:\\Users\\Victor\\Downloads\\reuters21578\\reut2-017.sgm')\n",
    "Train = [*Matrix0T,*Matrix1T,*Matrix2T,*Matrix3T,*Matrix4T,*Matrix5T,*Matrix6T,*Matrix7T,*Matrix8T,*Matrix9T,*Matrix10T,*Matrix11T,*Matrix12T,*Matrix13T,*Matrix14T, *Matrix17T]\n",
    "\n",
    "Label =[ *Matrix0L,*Matrix1L,*Matrix2L,*Matrix3L,*Matrix4L,*Matrix5L,*Matrix6L,*Matrix7L,*Matrix8L,*Matrix9L,*Matrix10L,*Matrix11L,*Matrix12L,*Matrix13L,*Matrix14L, *Matrix17L]\n",
    "\n",
    "\n",
    "Matrix15T, Matrix15L = dataparser(r'C:\\Users\\Victor\\Downloads\\reuters21578\\reut2-015.sgm')\n",
    "Matrix16T, Matrix16L = dataparser(r'C:\\Users\\Victor\\Downloads\\reuters21578\\reut2-016.sgm')\n",
    "Matrix18T, Matrix18L = dataparser(r'C:\\Users\\Victor\\Downloads\\reuters21578\\reut2-018.sgm')\n",
    "Matrix19T, Matrix19L = dataparser(r'C:\\Users\\Victor\\Downloads\\reuters21578\\reut2-019.sgm')\n",
    "Matrix20T, Matrix20L = dataparser(r'C:\\Users\\Victor\\Downloads\\reuters21578\\reut2-020.sgm')\n",
    "Matrix21T, Matrix21L = dataparser(r'C:\\Users\\Victor\\Downloads\\reuters21578\\reut2-021.sgm')\n",
    "\n",
    "Test = [*Matrix15T, *Matrix16T, *Matrix18T,*Matrix19T,*Matrix20T,*Matrix21T]\n",
    "\n",
    "Answer = [*Matrix15L, *Matrix16L,*Matrix18L,*Matrix19L,*Matrix20L,*Matrix21L]\n",
    "\n",
    "\n",
    "\n",
    "\n",
    "\n",
    "\n"
   ]
  },
  {
   "cell_type": "code",
   "execution_count": 7,
   "metadata": {},
   "outputs": [
    {
     "data": {
      "text/plain": [
       "'\\nAWB CALLS FOR TIGHTER WHEAT QUALITY CONTROLS\\n    MELBOURNE, April 2 - Australia is risking wheat export\\nsales by not providing enough specific quality grades to meet\\nbuyer requirements, the Australian Wheat Board (AWB) said.\\n    \"Many AWB customers are becoming increasingly quality\\nconscious, demanding strict adherence to contractual quality\\nspecifications,\" the board said in a submission to the Royal\\nCommission into Grain Storage, Handling and Transport.\\n    \"Many of the specifications are more specific than the\\ncurrent categories used in Australia,\" it said.\\n    The commission is trying to identify ways of saving costs\\nand boosting efficiency of the grain handling system.\\n    Australia must rely on quality to retain its wheat market\\nshare because its competitors are supplying cheaper but\\nlower-quality grades, the AWB submission said.\\n    It stressed the need to segregate wheat categories at every\\nstage from receival to shipping.\\n    Better industrial relations at grain terminals, more\\nuniform transport systems across the states and extensive stock\\ncontrol were vital to improved marketing, it said.\\n    The submission also said Australia\\'s federal system impeded\\nthe AWB\\'s role of coordinating and managing the marketing of\\nwheat.\\n    The AWB called for an end to physical and legislative\\nconstraints at state borders that prevent the efficient\\ntransport of grains to other states for shipment.\\n    \"It is essential that wheat moves by the most economic mode\\nto the nearest efficient port, irrespective of the state in\\nwhich the wheat is grown or stored,\" it said.\\n    For example, wheat grown in northern New South Wales (NSW)\\nmight move more efficiently to Brisbane, in Queensland, than to\\nSydney or Newcastle in New South Wales, it said. Similarly,\\nsouthern NSW wheat might better be shipped to Portland or\\nGeelong, in Victoria.\\n    Legislation giving state rail authorities a monopoly over\\ngrain shipments was one notable impediment, it said.\\n    The AWB said the current approach of state-based bulk\\nhandling authorities is not essential, although it said it\\nfavoured the authorities maintaining at least their current\\nlevel of control of storage and transport as long as quality\\nwas maintained.\\n    An appendix on port loading costs showed it cost between\\n26,500 and 34,700 U.S. Dlrs to load a 50,000-tonne vessel at\\nvarious Australian ports compared with 21,200 dlrs at Houston\\nand 16,300 at Port Cartier, Quebec, for a 60,000-tonner.\\n REUTER\\n AWB CALLS FOR TIGHTER WHEAT QUALITY CONTROLS MELBOURNE , April 2 - Australia risking wheat export sales providing enough specific quality grades meet buyer requirements , Australian Wheat Board ( AWB ) said . `` Many AWB customers becoming increasingly quality conscious , demanding strict adherence contractual quality specifications , \\'\\' board said submission Royal Commission Grain Storage , Handling Transport . `` Many specifications specific current categories used Australia , \\'\\' said . The commission trying identify ways saving costs boosting efficiency grain handling system . Australia must rely quality retain wheat market share competitors supplying cheaper lower-quality grades , AWB submission said . It stressed need segregate wheat categories every stage receival shipping . Better industrial relations grain terminals , uniform transport systems across states extensive stock control vital improved marketing , said . The submission also said Australia \\'s federal system impeded AWB \\'s role coordinating managing marketing wheat . The AWB called end physical legislative constraints state borders prevent efficient transport grains states shipment . `` It essential wheat moves economic mode nearest efficient port , irrespective state wheat grown stored , \\'\\' said . For example , wheat grown northern New South Wales ( NSW ) might move efficiently Brisbane , Queensland , Sydney Newcastle New South Wales , said . Similarly , southern NSW wheat might better shipped Portland Geelong , Victoria . Legislation giving state rail authorities monopoly grain shipments one notable impediment , said . The AWB said current approach state-based bulk handling authorities essential , although said favoured authorities maintaining least current level control storage transport long quality maintained . An appendix port loading costs showed cost 26,500 34,700 U.S. Dlrs load 50,000-tonne vessel various Australian ports compared 21,200 dlrs Houston 16,300 Port Cartier , Quebec , 60,000-tonner . REUTER'"
      ]
     },
     "execution_count": 7,
     "metadata": {},
     "output_type": "execute_result"
    }
   ],
   "source": [
    "Matrix12T[251]"
   ]
  },
  {
   "cell_type": "code",
   "execution_count": 8,
   "metadata": {},
   "outputs": [
    {
     "data": {
      "text/plain": [
       "'grain'"
      ]
     },
     "execution_count": 8,
     "metadata": {},
     "output_type": "execute_result"
    }
   ],
   "source": [
    "Matrix12L[251]"
   ]
  },
  {
   "cell_type": "code",
   "execution_count": 9,
   "metadata": {},
   "outputs": [],
   "source": [
    "from sklearn.feature_extraction.text import TfidfVectorizer\n",
    "from sklearn.naive_bayes import MultinomialNB\n",
    "from sklearn.pipeline import make_pipeline\n",
    "\n",
    "model = make_pipeline(TfidfVectorizer(),MultinomialNB())\n",
    "model.fit(Train , Label)\n",
    "labels = model.predict(Test)"
   ]
  },
  {
   "cell_type": "code",
   "execution_count": 10,
   "metadata": {},
   "outputs": [
    {
     "data": {
      "text/plain": [
       "0.6706220783890687"
      ]
     },
     "execution_count": 10,
     "metadata": {},
     "output_type": "execute_result"
    }
   ],
   "source": [
    "a=0\n",
    "accuracy=0\n",
    "for x in labels:\n",
    "    if (x == str(Answer[a])):\n",
    "         accuracy +=1\n",
    "    a+=1\n",
    "    \n",
    "accuracy/ len(Answer)\n"
   ]
  },
  {
   "cell_type": "code",
   "execution_count": 86,
   "metadata": {},
   "outputs": [
    {
     "data": {
      "text/plain": [
       "1036"
      ]
     },
     "execution_count": 86,
     "metadata": {},
     "output_type": "execute_result"
    }
   ],
   "source": [
    "512+524"
   ]
  },
  {
   "cell_type": "code",
   "execution_count": null,
   "metadata": {},
   "outputs": [],
   "source": []
  }
 ],
 "metadata": {
  "kernelspec": {
   "display_name": "Python 3",
   "language": "python",
   "name": "python3"
  },
  "language_info": {
   "codemirror_mode": {
    "name": "ipython",
    "version": 3
   },
   "file_extension": ".py",
   "mimetype": "text/x-python",
   "name": "python",
   "nbconvert_exporter": "python",
   "pygments_lexer": "ipython3",
   "version": "3.7.3"
  }
 },
 "nbformat": 4,
 "nbformat_minor": 2
}
